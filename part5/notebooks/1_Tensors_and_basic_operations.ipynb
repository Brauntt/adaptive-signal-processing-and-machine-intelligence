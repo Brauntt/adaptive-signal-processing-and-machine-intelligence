{
 "cells": [
  {
   "cell_type": "code",
   "execution_count": 2,
   "metadata": {},
   "outputs": [],
   "source": [
    "%load_ext autoreload\n",
    "%autoreload 2\n",
    "%matplotlib inline"
   ]
  },
  {
   "cell_type": "code",
   "execution_count": 3,
   "metadata": {},
   "outputs": [],
   "source": [
    "import numpy as np\n",
    "import matplotlib.pyplot as plt\n",
    "from hottbox.core import Tensor"
   ]
  },
  {
   "cell_type": "markdown",
   "metadata": {
    "toc-hr-collapsed": false
   },
   "source": [
    "[Return to Table of Contents](./0_Table_of_contents.ipynb)"
   ]
  },
  {
   "cell_type": "markdown",
   "metadata": {
    "toc-hr-collapsed": false
   },
   "source": [
    "# Tensors and basic operations"
   ]
  },
  {
   "cell_type": "markdown",
   "metadata": {
    "toc-hr-collapsed": true
   },
   "source": [
    "<img src=\"./imgs/tensors_dogs.jpg\" alt=\"Drawing\" style=\"width: 500px;\"/>\n",
    "\n",
    "A tensor is a multi-dimenaional array of data where each dimension is conventionally referred to as the **mode**. Tensor order is defined by the number of its modes which is equivivalent to the number of indices required to identify a particular entry of a multi-dimensional array. For ease of visualisation and compact notation, we consider a third order tensor $\\mathbf{\\underline{X}} \\in \\mathbb{R}^{I \\times J \\times K}$. Thus, an element of such a tensor, $\\mathbf{\\underline{X}} \\in \\mathbb{R}^{I \\times J \\times K}$, can be written in a general form as:\n",
    "\n",
    "$$ x_{ijk} = \\mathbf{\\underline{X}}[i, j, k]$$\n",
    "\n",
    "> **Note:** In order to be consistent with Python indexing, count of modes and elements within starts from zeros.\n",
    "\n",
    "Creation of a tensor starts with a formation of a multidimensional array of data."
   ]
  },
  {
   "cell_type": "code",
   "execution_count": 4,
   "metadata": {},
   "outputs": [
    {
     "name": "stdout",
     "output_type": "stream",
     "text": [
      "This tensor is of order 3 and consists of 24 elements.\n",
      "Sizes and names of its modes are (2, 3, 4) and ['mode-0', 'mode-1', 'mode-2'] respectively.\n"
     ]
    },
    {
     "data": {
      "text/plain": [
       "array([[[ 0,  1,  2,  3],\n",
       "        [ 4,  5,  6,  7],\n",
       "        [ 8,  9, 10, 11]],\n",
       "\n",
       "       [[12, 13, 14, 15],\n",
       "        [16, 17, 18, 19],\n",
       "        [20, 21, 22, 23]]])"
      ]
     },
     "execution_count": 4,
     "metadata": {},
     "output_type": "execute_result"
    }
   ],
   "source": [
    "# Create 3-d array of data\n",
    "array_3d = np.arange(24).reshape((2, 3, 4))\n",
    "\n",
    "# Create tensor\n",
    "tensor = Tensor(array_3d)\n",
    "\n",
    "# Result preview\n",
    "print(tensor)\n",
    "tensor.data"
   ]
  },
  {
   "cell_type": "markdown",
   "metadata": {
    "toc-hr-collapsed": true
   },
   "source": [
    "## **Assigment 1**\n",
    "\n",
    "1. Create a tensor of order 5 (of any shape) and with all its values equal to 5. Then, calculate its Frobenious norm. \n",
    "2. Construct several tensors of orders varying from 3 to 20, with the size of each dimension equal to 2. Plot the relation between an order of a tensor and the number of its elements.\n",
    "3. Construct several tensors of order 3 with the size of each dimension varying from 3 to 15. Plot the relation between the size of dimensions of a tensor and the number of its elements.\n",
    "4. Analyse and compare the so obtained graphs."
   ]
  },
  {
   "cell_type": "markdown",
   "metadata": {},
   "source": [
    "### Solution: Part 1"
   ]
  },
  {
   "cell_type": "code",
   "execution_count": 5,
   "metadata": {},
   "outputs": [
    {
     "name": "stdout",
     "output_type": "stream",
     "text": [
      "This tensor is of order 5 and consists of 1 elements.\n",
      "Sizes and names of its modes are (1, 1, 1, 1, 1) and ['mode-0', 'mode-1', 'mode-2', 'mode-3', 'mode-4'] respectively.\n"
     ]
    },
    {
     "data": {
      "text/plain": [
       "array([[[[[5]]]]])"
      ]
     },
     "execution_count": 5,
     "metadata": {},
     "output_type": "execute_result"
    }
   ],
   "source": [
    "# Create a tensor\n",
    "tensor_5d = Tensor(np.full([1, 1, 1, 1, 1], 5))\n",
    "\n",
    "# Result preview\n",
    "print(tensor_5d)\n",
    "tensor_5d.data"
   ]
  },
  {
   "cell_type": "code",
   "execution_count": 6,
   "metadata": {},
   "outputs": [
    {
     "data": {
      "text/plain": [
       "5.0"
      ]
     },
     "execution_count": 6,
     "metadata": {},
     "output_type": "execute_result"
    }
   ],
   "source": [
    "# Calculate Frobenious norm\n",
    "np.linalg.norm(tensor_5d.data)"
   ]
  },
  {
   "cell_type": "markdown",
   "metadata": {},
   "source": [
    "### Solution: Part 2"
   ]
  },
  {
   "cell_type": "code",
   "execution_count": 7,
   "metadata": {},
   "outputs": [
    {
     "data": {
      "text/plain": [
       "array([[[[[1., 1.],\n",
       "          [1., 1.]],\n",
       "\n",
       "         [[1., 1.],\n",
       "          [1., 1.]]],\n",
       "\n",
       "\n",
       "        [[[1., 1.],\n",
       "          [1., 1.]],\n",
       "\n",
       "         [[1., 1.],\n",
       "          [1., 1.]]]],\n",
       "\n",
       "\n",
       "\n",
       "       [[[[1., 1.],\n",
       "          [1., 1.]],\n",
       "\n",
       "         [[1., 1.],\n",
       "          [1., 1.]]],\n",
       "\n",
       "\n",
       "        [[[1., 1.],\n",
       "          [1., 1.]],\n",
       "\n",
       "         [[1., 1.],\n",
       "          [1., 1.]]]]])"
      ]
     },
     "execution_count": 7,
     "metadata": {},
     "output_type": "execute_result"
    }
   ],
   "source": [
    "# Initialise\n",
    "tensor_list =[]\n",
    "tensor_size =[]\n",
    "# Desired dimension size\n",
    "size = [2]\n",
    "# Order range\n",
    "order = range(3, 21)\n",
    "# Create tensors and collect information\n",
    "for index_order in order:\n",
    "    tensor_list.append(np.ones(size * index_order))\n",
    "    tensor_size.append(np.ones(size * index_order).size)\n",
    "# Instance of order 5\n",
    "tensor_list[2]"
   ]
  },
  {
   "cell_type": "code",
   "execution_count": 8,
   "metadata": {},
   "outputs": [
    {
     "data": {
      "image/png": "[encoded data removed]",
      "text/plain": [
       "<Figure size 432x288 with 1 Axes>"
      ]
     },
     "metadata": {
      "needs_background": "light"
     },
     "output_type": "display_data"
    }
   ],
   "source": [
    "# Plot results\n",
    "plt.plot(order, tensor_size)\n",
    "plt.grid(True)\n",
    "plt.legend(['Dimension Size = 2'])\n",
    "plt.title('Relationship between tensor order and element number')\n",
    "plt.xlabel('Order of tensor')\n",
    "plt.ylabel('Number of elements')\n",
    "plt.show()"
   ]
  },
  {
   "cell_type": "markdown",
   "metadata": {},
   "source": [
    "### Solution: Part 3"
   ]
  },
  {
   "cell_type": "code",
   "execution_count": 9,
   "metadata": {},
   "outputs": [
    {
     "data": {
      "text/plain": [
       "array([[[1., 1., 1., 1., 1.],\n",
       "        [1., 1., 1., 1., 1.],\n",
       "        [1., 1., 1., 1., 1.],\n",
       "        [1., 1., 1., 1., 1.],\n",
       "        [1., 1., 1., 1., 1.]],\n",
       "\n",
       "       [[1., 1., 1., 1., 1.],\n",
       "        [1., 1., 1., 1., 1.],\n",
       "        [1., 1., 1., 1., 1.],\n",
       "        [1., 1., 1., 1., 1.],\n",
       "        [1., 1., 1., 1., 1.]],\n",
       "\n",
       "       [[1., 1., 1., 1., 1.],\n",
       "        [1., 1., 1., 1., 1.],\n",
       "        [1., 1., 1., 1., 1.],\n",
       "        [1., 1., 1., 1., 1.],\n",
       "        [1., 1., 1., 1., 1.]],\n",
       "\n",
       "       [[1., 1., 1., 1., 1.],\n",
       "        [1., 1., 1., 1., 1.],\n",
       "        [1., 1., 1., 1., 1.],\n",
       "        [1., 1., 1., 1., 1.],\n",
       "        [1., 1., 1., 1., 1.]],\n",
       "\n",
       "       [[1., 1., 1., 1., 1.],\n",
       "        [1., 1., 1., 1., 1.],\n",
       "        [1., 1., 1., 1., 1.],\n",
       "        [1., 1., 1., 1., 1.],\n",
       "        [1., 1., 1., 1., 1.]]])"
      ]
     },
     "execution_count": 9,
     "metadata": {},
     "output_type": "execute_result"
    }
   ],
   "source": [
    "# Initialise\n",
    "tensor_list =[]\n",
    "tensor_size =[]\n",
    "# Desired tensor order\n",
    "order = 3\n",
    "# Range of dimension size\n",
    "size = range(3, 16)\n",
    "# Create tensors and collect information\n",
    "for index_size in size:\n",
    "    tensor_list.append(np.ones(order * [index_size]))\n",
    "    tensor_size.append(np.ones(order * [index_size]).size)\n",
    "# Instance of dimension size 5\n",
    "tensor_list[2]"
   ]
  },
  {
   "cell_type": "code",
   "execution_count": 10,
   "metadata": {},
   "outputs": [
    {
     "data": {
      "image/png": "[encoded data removed]",
      "text/plain": [
       "<Figure size 432x288 with 1 Axes>"
      ]
     },
     "metadata": {
      "needs_background": "light"
     },
     "output_type": "display_data"
    }
   ],
   "source": [
    "# Plot results\n",
    "plt.plot(size, tensor_size)\n",
    "plt.grid(True)\n",
    "plt.legend(['Tensor order = 2'])\n",
    "plt.title('Relationship between dimension size and element number')\n",
    "plt.xlabel('Size of each dimension')\n",
    "plt.ylabel('Number of elements')\n",
    "plt.show()"
   ]
  },
  {
   "cell_type": "markdown",
   "metadata": {},
   "source": [
    "### Solution: Part 4"
   ]
  },
  {
   "cell_type": "markdown",
   "metadata": {},
   "source": [
    "As a generalisation of scalar, vector and matrice, tensor can describe objects in a higher-dimensional space. The order depends on the number of dimensions. In _numpy_, it equals the number of the brackets displayed before the first element. Although a higher order brings more possibilities _(e.g. more complicated networks)_, the number of elements and the computational complexity grows exponentially, and it may lead to overfitting as well. Emperically, a order larger than 7 is unnecessary. In comparison, the size of each dimension indicates the length of sample. With a proper order as 2, increasing the number of samples can improve the resolution without the requirement of a large memory."
   ]
  },
  {
   "cell_type": "markdown",
   "metadata": {
    "toc-hr-collapsed": false
   },
   "source": [
    "# Most common tensor substructures\n",
    "<img src=\"./imgs/tensor_substructures.png\" alt=\"Drawing\" style=\"width: 500px;\"/>\n",
    "\n",
    "1. A **fiber** is a vector obtained by fixing all but one of the indices, e.g.  $\\mathbf{\\underline{X}}[i,:,k]$ is the mode-2 fiber $\\mathbf{\\underline{X}}$ (usually refered to as row fiber). \n",
    "\n",
    "1. Fixing all but two of the indices yields a matrix called a **slice** of a tensor, e.g. $\\mathbf{\\underline{X}}[:,:,k]$ is the mode-[1,2] slice (usually refered to as the frontal slice).\n",
    "\n",
    "**Note:** The same principles and definitions can be applied to a tensor of an arbitrarily large order. In addition, you can obtain a **subtensor** by fixing at least three indices and letting the remaining ones vary."
   ]
  },
  {
   "cell_type": "code",
   "execution_count": 11,
   "metadata": {},
   "outputs": [
    {
     "data": {
      "text/plain": [
       "array([4, 5, 6, 7])"
      ]
     },
     "execution_count": 11,
     "metadata": {},
     "output_type": "execute_result"
    }
   ],
   "source": [
    "# Mode-2 fiber\n",
    "tensor.data[0,1,:]"
   ]
  },
  {
   "cell_type": "code",
   "execution_count": 48,
   "metadata": {},
   "outputs": [
    {
     "data": {
      "text/plain": [
       "array([[ 0,  4,  8],\n",
       "       [12, 16, 20]])"
      ]
     },
     "execution_count": 48,
     "metadata": {},
     "output_type": "execute_result"
    }
   ],
   "source": [
    "# Frontal slice (fixed)\n",
    "tensor.data[:,:,0]"
   ]
  },
  {
   "cell_type": "markdown",
   "metadata": {
    "toc-hr-collapsed": true
   },
   "source": [
    "## **Assigment 2**\n",
    "\n",
    "1. Create a tensor of order 4 which consists of 81 elements and display all its horizontal slices and any five row fibers.\n",
    "2. Create a tensor of order 3 and shape `(4,2,5)`, where the values of each consequent frontal slice are doubled."
   ]
  },
  {
   "cell_type": "markdown",
   "metadata": {},
   "source": [
    "### Solution: Part 1"
   ]
  },
  {
   "cell_type": "code",
   "execution_count": 13,
   "metadata": {},
   "outputs": [
    {
     "name": "stdout",
     "output_type": "stream",
     "text": [
      "This tensor is of order 4 and consists of 81 elements.\n",
      "Sizes and names of its modes are (3, 3, 3, 3) and ['mode-0', 'mode-1', 'mode-2', 'mode-3'] respectively.\n"
     ]
    },
    {
     "data": {
      "text/plain": [
       "array([[[[ 0,  1,  2],\n",
       "         [ 3,  4,  5],\n",
       "         [ 6,  7,  8]],\n",
       "\n",
       "        [[ 9, 10, 11],\n",
       "         [12, 13, 14],\n",
       "         [15, 16, 17]],\n",
       "\n",
       "        [[18, 19, 20],\n",
       "         [21, 22, 23],\n",
       "         [24, 25, 26]]],\n",
       "\n",
       "\n",
       "       [[[27, 28, 29],\n",
       "         [30, 31, 32],\n",
       "         [33, 34, 35]],\n",
       "\n",
       "        [[36, 37, 38],\n",
       "         [39, 40, 41],\n",
       "         [42, 43, 44]],\n",
       "\n",
       "        [[45, 46, 47],\n",
       "         [48, 49, 50],\n",
       "         [51, 52, 53]]],\n",
       "\n",
       "\n",
       "       [[[54, 55, 56],\n",
       "         [57, 58, 59],\n",
       "         [60, 61, 62]],\n",
       "\n",
       "        [[63, 64, 65],\n",
       "         [66, 67, 68],\n",
       "         [69, 70, 71]],\n",
       "\n",
       "        [[72, 73, 74],\n",
       "         [75, 76, 77],\n",
       "         [78, 79, 80]]]])"
      ]
     },
     "execution_count": 13,
     "metadata": {},
     "output_type": "execute_result"
    }
   ],
   "source": [
    "# Create a tensor of order 4\n",
    "tensor_4d = Tensor(np.arange(81).reshape([3, 3, 3, 3]))\n",
    "print(tensor_4d)\n",
    "tensor_4d.data"
   ]
  },
  {
   "cell_type": "code",
   "execution_count": 47,
   "metadata": {},
   "outputs": [
    {
     "name": "stdout",
     "output_type": "stream",
     "text": [
      "Horizontal slice 0: \n",
      "[[[ 0  1  2]\n",
      "  [ 3  4  5]\n",
      "  [ 6  7  8]]\n",
      "\n",
      " [[ 9 10 11]\n",
      "  [12 13 14]\n",
      "  [15 16 17]]\n",
      "\n",
      " [[18 19 20]\n",
      "  [21 22 23]\n",
      "  [24 25 26]]]\n",
      "--------------------\n",
      "Horizontal slice 1: \n",
      "[[[27 28 29]\n",
      "  [30 31 32]\n",
      "  [33 34 35]]\n",
      "\n",
      " [[36 37 38]\n",
      "  [39 40 41]\n",
      "  [42 43 44]]\n",
      "\n",
      " [[45 46 47]\n",
      "  [48 49 50]\n",
      "  [51 52 53]]]\n",
      "--------------------\n",
      "Horizontal slice 2: \n",
      "[[[54 55 56]\n",
      "  [57 58 59]\n",
      "  [60 61 62]]\n",
      "\n",
      " [[63 64 65]\n",
      "  [66 67 68]\n",
      "  [69 70 71]]\n",
      "\n",
      " [[72 73 74]\n",
      "  [75 76 77]\n",
      "  [78 79 80]]]\n",
      "--------------------\n"
     ]
    }
   ],
   "source": [
    "# Display slices\n",
    "for index_m0 in range(0, tensor_4d.shape[0]):\n",
    "    print('Horizontal slice %d: ' % (index_m0))\n",
    "    print(tensor_4d.data[index_m0, :, :, :])\n",
    "    print('--------------------')"
   ]
  },
  {
   "cell_type": "code",
   "execution_count": 45,
   "metadata": {},
   "outputs": [
    {
     "name": "stdout",
     "output_type": "stream",
     "text": [
      "--------------------\n",
      "Row fiber 1: \n",
      "[ 0  9 18]\n",
      "--------------------\n",
      "Row fiber 2: \n",
      "[ 1 10 19]\n",
      "--------------------\n",
      "Row fiber 3: \n",
      "[ 2 11 20]\n",
      "--------------------\n",
      "Row fiber 4: \n",
      "[ 3 12 21]\n",
      "--------------------\n",
      "Row fiber 5: \n",
      "[ 4 13 22]\n"
     ]
    }
   ],
   "source": [
    "def display_row_fibers():\n",
    "    # Initialise\n",
    "    counter = 0\n",
    "    target = 5\n",
    "    # Display fibers\n",
    "    for index_m0 in range(0, tensor_4d.shape[0]):\n",
    "        for index_m2 in range(0, tensor_4d.shape[2]):\n",
    "            for index_m3 in range(0, tensor_4d.shape[3]):\n",
    "                counter+=1\n",
    "                print('Row fiber %d: ' % (counter))\n",
    "                print(tensor_4d.data[index_m0, :, index_m2, index_m3])\n",
    "                print('--------------------')\n",
    "                if counter == target:\n",
    "                    return\n",
    "display_row_fibers()"
   ]
  },
  {
   "cell_type": "markdown",
   "metadata": {},
   "source": [
    "### Solution: Part 2"
   ]
  },
  {
   "cell_type": "code",
   "execution_count": 65,
   "metadata": {},
   "outputs": [
    {
     "name": "stdout",
     "output_type": "stream",
     "text": [
      "This tensor is of order 3 and consists of 40 elements.\n",
      "Sizes and names of its modes are (4, 2, 5) and ['mode-0', 'mode-1', 'mode-2'] respectively.\n"
     ]
    },
    {
     "data": {
      "text/plain": [
       "array([[[ 1.,  2.,  4.,  8., 16.],\n",
       "        [ 1.,  2.,  4.,  8., 16.]],\n",
       "\n",
       "       [[ 1.,  2.,  4.,  8., 16.],\n",
       "        [ 1.,  2.,  4.,  8., 16.]],\n",
       "\n",
       "       [[ 1.,  2.,  4.,  8., 16.],\n",
       "        [ 1.,  2.,  4.,  8., 16.]],\n",
       "\n",
       "       [[ 1.,  2.,  4.,  8., 16.],\n",
       "        [ 1.,  2.,  4.,  8., 16.]]])"
      ]
     },
     "execution_count": 65,
     "metadata": {},
     "output_type": "execute_result"
    }
   ],
   "source": [
    "# Create a tensor of order 3\n",
    "tensor_3d = Tensor(np.ones([4, 2, 5]))\n",
    "for index_m2 in range(0, tensor_3d.shape[2]):\n",
    "    tensor_3d.data[:, :, index_m2] = np.dot(tensor_3d.data[:, :, index_m2], 2 ** index_m2)\n",
    "print(tensor_3d)\n",
    "tensor_3d.data"
   ]
  },
  {
   "cell_type": "markdown",
   "metadata": {
    "toc-hr-collapsed": false
   },
   "source": [
    "# Unfolding\n",
    "\n",
    "Conventionally, unfolding is considered to be a process of element mapping from a tensor to a matrix. In other words, it arranges the mode-$n$ fibers of a tensor to be the matrix columns. Thus, the mode-$n$ unfolding is denoted as:\n",
    "\n",
    "$$\\mathbf{\\underline{A}} \\xrightarrow{n} \\mathbf{A}_{(n)}$$\n",
    "\n",
    "Thus, this operations requires to specify a mode along which a tensor will be unfolded. For a third order tensor, a visual representation of such operation is as following\n",
    "\n",
    "<img src=\"./imgs/unfolding.png\" alt=\"Drawing\" style=\"width: 600px;\"/>\n",
    "\n",
    "In `hottbox` this functionality is available through the corresponding methods of the `Tensor` object, for instance:"
   ]
  },
  {
   "cell_type": "code",
   "execution_count": 66,
   "metadata": {},
   "outputs": [
    {
     "name": "stdout",
     "output_type": "stream",
     "text": [
      "This tensor is of order 2 and consists of 24 elements.\n",
      "Sizes and names of its modes are (2, 12) and ['mode-0', 'mode-1_mode-2'] respectively.\n"
     ]
    },
    {
     "data": {
      "text/plain": [
       "array([[ 0,  1,  2,  3,  4,  5,  6,  7,  8,  9, 10, 11],\n",
       "       [12, 13, 14, 15, 16, 17, 18, 19, 20, 21, 22, 23]])"
      ]
     },
     "execution_count": 66,
     "metadata": {},
     "output_type": "execute_result"
    }
   ],
   "source": [
    "# Create 3-d array of data\n",
    "array_3d = np.arange(24).reshape((2, 3, 4))\n",
    "\n",
    "# Create tensor\n",
    "tensor = Tensor(array_3d)\n",
    "\n",
    "# Unfolding of a tensor\n",
    "tensor.unfold(mode=0)\n",
    "\n",
    "# Result preview\n",
    "print(tensor)\n",
    "tensor.data"
   ]
  },
  {
   "cell_type": "markdown",
   "metadata": {
    "toc-hr-collapsed": true
   },
   "source": [
    "## **Assigment 3**\n",
    "\n",
    "1. Create a tensor, $\\mathbf{\\underline{A}}$, of order 4, in such a way that its version unfolded along the second mode would have sizes `(5,72)`, that is $\\mathbf{A}_{(n)} \\in  \\mathbb{R}^{5 \\times 72}$. Validate your results by displaying the unfolded tensor."
   ]
  },
  {
   "cell_type": "markdown",
   "metadata": {},
   "source": [
    "### Solution : Part 1"
   ]
  },
  {
   "cell_type": "code",
   "execution_count": 77,
   "metadata": {},
   "outputs": [],
   "source": [
    "# Create a tensor\n",
    "tensor_4d = Tensor(np.arange(360).reshape(6, 5, 4, 3))"
   ]
  },
  {
   "cell_type": "code",
   "execution_count": 78,
   "metadata": {},
   "outputs": [
    {
     "data": {
      "text/plain": [
       "array([[  0,   1,   2,   3,   4,   5,   6,   7,   8,   9,  10,  11,  60,\n",
       "         61,  62,  63,  64,  65,  66,  67,  68,  69,  70,  71, 120, 121,\n",
       "        122, 123, 124, 125, 126, 127, 128, 129, 130, 131, 180, 181, 182,\n",
       "        183, 184, 185, 186, 187, 188, 189, 190, 191, 240, 241, 242, 243,\n",
       "        244, 245, 246, 247, 248, 249, 250, 251, 300, 301, 302, 303, 304,\n",
       "        305, 306, 307, 308, 309, 310, 311],\n",
       "       [ 12,  13,  14,  15,  16,  17,  18,  19,  20,  21,  22,  23,  72,\n",
       "         73,  74,  75,  76,  77,  78,  79,  80,  81,  82,  83, 132, 133,\n",
       "        134, 135, 136, 137, 138, 139, 140, 141, 142, 143, 192, 193, 194,\n",
       "        195, 196, 197, 198, 199, 200, 201, 202, 203, 252, 253, 254, 255,\n",
       "        256, 257, 258, 259, 260, 261, 262, 263, 312, 313, 314, 315, 316,\n",
       "        317, 318, 319, 320, 321, 322, 323],\n",
       "       [ 24,  25,  26,  27,  28,  29,  30,  31,  32,  33,  34,  35,  84,\n",
       "         85,  86,  87,  88,  89,  90,  91,  92,  93,  94,  95, 144, 145,\n",
       "        146, 147, 148, 149, 150, 151, 152, 153, 154, 155, 204, 205, 206,\n",
       "        207, 208, 209, 210, 211, 212, 213, 214, 215, 264, 265, 266, 267,\n",
       "        268, 269, 270, 271, 272, 273, 274, 275, 324, 325, 326, 327, 328,\n",
       "        329, 330, 331, 332, 333, 334, 335],\n",
       "       [ 36,  37,  38,  39,  40,  41,  42,  43,  44,  45,  46,  47,  96,\n",
       "         97,  98,  99, 100, 101, 102, 103, 104, 105, 106, 107, 156, 157,\n",
       "        158, 159, 160, 161, 162, 163, 164, 165, 166, 167, 216, 217, 218,\n",
       "        219, 220, 221, 222, 223, 224, 225, 226, 227, 276, 277, 278, 279,\n",
       "        280, 281, 282, 283, 284, 285, 286, 287, 336, 337, 338, 339, 340,\n",
       "        341, 342, 343, 344, 345, 346, 347],\n",
       "       [ 48,  49,  50,  51,  52,  53,  54,  55,  56,  57,  58,  59, 108,\n",
       "        109, 110, 111, 112, 113, 114, 115, 116, 117, 118, 119, 168, 169,\n",
       "        170, 171, 172, 173, 174, 175, 176, 177, 178, 179, 228, 229, 230,\n",
       "        231, 232, 233, 234, 235, 236, 237, 238, 239, 288, 289, 290, 291,\n",
       "        292, 293, 294, 295, 296, 297, 298, 299, 348, 349, 350, 351, 352,\n",
       "        353, 354, 355, 356, 357, 358, 359]])"
      ]
     },
     "execution_count": 78,
     "metadata": {},
     "output_type": "execute_result"
    }
   ],
   "source": [
    "# Display unfolded version (the second mode refers to mode-1)\n",
    "tensor_4d.unfold(mode=1).data"
   ]
  },
  {
   "cell_type": "markdown",
   "metadata": {
    "toc-hr-collapsed": false
   },
   "source": [
    "# Mode-n product \n",
    "<img src=\"./imgs/mode_n_product.png\" alt=\"Drawing\" style=\"width: 600px;\"/>\n",
    "\n",
    "The mode-$n$ product is a multiplication of a tensor  by a matrix along the $n^{th}$ mode of a tensor. This essentially means that each mode-$n$ fiber should be multiplied by this matrix. Mathematically, this can be expressed as:\n",
    "\n",
    "$$\\mathbf{\\underline{X}} \\times_n \\mathbf{A} = \\mathbf{\\underline{Y}} \\quad \\Leftrightarrow  \\quad \\mathbf{Y}_{(n)} = \\mathbf{A} \\mathbf{X}_{(n)}  $$"
   ]
  },
  {
   "cell_type": "code",
   "execution_count": 19,
   "metadata": {},
   "outputs": [
    {
     "name": "stdout",
     "output_type": "stream",
     "text": [
      "This tensor is of order 3 and consists of 40 elements.\n",
      "Sizes and names of its modes are (2, 5, 4) and ['mode-0', 'mode-1', 'mode-2'] respectively.\n"
     ]
    },
    {
     "data": {
      "text/plain": [
       "array([[ 20,  23,  26,  29,  56,  59,  62,  65],\n",
       "       [ 56,  68,  80,  92, 200, 212, 224, 236],\n",
       "       [ 92, 113, 134, 155, 344, 365, 386, 407],\n",
       "       [128, 158, 188, 218, 488, 518, 548, 578],\n",
       "       [164, 203, 242, 281, 632, 671, 710, 749]])"
      ]
     },
     "execution_count": 19,
     "metadata": {},
     "output_type": "execute_result"
    }
   ],
   "source": [
    "I, J, K = 2, 3, 4\n",
    "J_new = 5\n",
    "\n",
    "# Create tensor\n",
    "array_3d = np.arange(I * J * K).reshape(I, J ,K)\n",
    "X = Tensor(array_3d)\n",
    "\n",
    "# Create matrix\n",
    "A = np.arange(J_new * J).reshape(J_new, J)\n",
    "\n",
    "# Performs Mode-n product \n",
    "Y = X.mode_n_product(A, mode=1, inplace=False)\n",
    "\n",
    "# Preview of resulting tensor\n",
    "print(Y)\n",
    "\n",
    "# Preview of its unfolded version\n",
    "Y.unfold(mode=1, inplace=False).data"
   ]
  },
  {
   "cell_type": "markdown",
   "metadata": {
    "toc-hr-collapsed": true
   },
   "source": [
    "## **Assignment 4**\n",
    "\n",
    "1. Perform the mode-$n$ product of a 3-rd order tensor, $\\mathbf{\\underline{X}}$, with a matrix, $\\mathbf{A} \\in  \\mathbb{R}^{5 \\times 4}$, provided that the resulting tensor, $\\mathbf{\\underline{Y}}$, consists of `100` elements. Validate your results. \n",
    "\n",
    "> **Note:** You are encouraged to experiment with the optional parameter `inplace` and to investigate its effect on the result."
   ]
  },
  {
   "cell_type": "markdown",
   "metadata": {},
   "source": [
    "### Solution: Part 1"
   ]
  },
  {
   "cell_type": "code",
   "execution_count": 20,
   "metadata": {},
   "outputs": [],
   "source": [
    "# Create original tensor \n"
   ]
  },
  {
   "cell_type": "code",
   "execution_count": 21,
   "metadata": {},
   "outputs": [],
   "source": [
    "# Create matrix\n"
   ]
  },
  {
   "cell_type": "code",
   "execution_count": 22,
   "metadata": {},
   "outputs": [],
   "source": [
    "# Perform mode-n product \n"
   ]
  },
  {
   "cell_type": "code",
   "execution_count": 23,
   "metadata": {},
   "outputs": [],
   "source": [
    "# Validate equivalence between the left and right hand side\n"
   ]
  },
  {
   "cell_type": "markdown",
   "metadata": {},
   "source": [
    "# Properties of mode-n product\n",
    "\n",
    "1. For distinct modes in a series of multiplications, the order of the multiplication is irrelevent: \n",
    "\n",
    "    $$\\mathbf{\\underline{X}} \\times_n \\mathbf{A} \\times_m \\mathbf{B} = \\mathbf{\\underline{X}} \\times_m \\mathbf{B} \\times_n \\mathbf{A} \\quad (m \\neq n)$$\n",
    "\n",
    "1. However, this does not hold if the modes are the same :\n",
    "\n",
    "    $$\\mathbf{\\underline{X}} \\times_n \\mathbf{A} \\times_n \\mathbf{B} = \\mathbf{\\underline{X}} \\times_n (\\mathbf{B}\\mathbf{A})$$"
   ]
  },
  {
   "cell_type": "markdown",
   "metadata": {
    "toc-hr-collapsed": true
   },
   "source": [
    "## **Assignment 5**\n",
    "\n",
    "1. Validate both of the above properties empirically \n",
    "2. Prove the second property analytically\n",
    "\n",
    "> **Note:** Be aware of consequences of the optional parameter `inplace` (its default value is set to `True`)."
   ]
  },
  {
   "cell_type": "markdown",
   "metadata": {},
   "source": [
    "### Solution: Part 1"
   ]
  },
  {
   "cell_type": "code",
   "execution_count": 24,
   "metadata": {},
   "outputs": [],
   "source": [
    "# Create tensor\n"
   ]
  },
  {
   "cell_type": "code",
   "execution_count": 25,
   "metadata": {},
   "outputs": [],
   "source": [
    "# Create matrices\n"
   ]
  },
  {
   "cell_type": "code",
   "execution_count": 26,
   "metadata": {},
   "outputs": [],
   "source": [
    "# Validate property 1\n"
   ]
  },
  {
   "cell_type": "code",
   "execution_count": 27,
   "metadata": {},
   "outputs": [],
   "source": [
    "# Validate property 2\n"
   ]
  },
  {
   "cell_type": "markdown",
   "metadata": {
    "toc-hr-collapsed": true
   },
   "source": [
    "### Solution: Part 2\n",
    "\n",
    "Use [LaTeX syntax](https://stackoverflow.com/questions/13208286/how-to-write-latex-in-ipython-notebook) for analytical deriviations for the second property below.\n"
   ]
  },
  {
   "cell_type": "code",
   "execution_count": 28,
   "metadata": {},
   "outputs": [
    {
     "data": {
      "text/latex": [
       "\n"
      ],
      "text/plain": [
       "<IPython.core.display.Latex object>"
      ]
     },
     "metadata": {},
     "output_type": "display_data"
    }
   ],
   "source": [
    "%%latex\n",
    "\n"
   ]
  }
 ],
 "metadata": {
  "kernelspec": {
   "display_name": "dpm-coursework",
   "language": "python",
   "name": "dpm-coursework"
  },
  "language_info": {
   "codemirror_mode": {
    "name": "ipython",
    "version": 3
   },
   "file_extension": ".py",
   "mimetype": "text/x-python",
   "name": "python",
   "nbconvert_exporter": "python",
   "pygments_lexer": "ipython3",
   "version": "3.6.5"
  },
  "toc-autonumbering": false,
  "toc-showcode": false,
  "toc-showmarkdowntxt": false
 },
 "nbformat": 4,
 "nbformat_minor": 2
}
